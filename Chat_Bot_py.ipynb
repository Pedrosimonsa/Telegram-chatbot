{
  "cells": [
    {
      "cell_type": "markdown",
      "metadata": {
        "id": "view-in-github",
        "colab_type": "text"
      },
      "source": [
        "<a href=\"https://colab.research.google.com/github/Pedrosimonsa/Telegram-chatbot/blob/chatbot/Chat_Bot_py.ipynb\" target=\"_parent\"><img src=\"https://colab.research.google.com/assets/colab-badge.svg\" alt=\"Open In Colab\"/></a>"
      ]
    },
    {
      "cell_type": "code",
      "execution_count": null,
      "metadata": {
        "colab": {
          "base_uri": "https://localhost:8080/"
        },
        "id": "juXKKpuy-g1-",
        "outputId": "48e3ee8d-dfb7-4a8d-dd1e-deb75a4a23d4"
      },
      "outputs": [
        {
          "name": "stdout",
          "output_type": "stream",
          "text": [
            "Collecting python-telegram-bot\n",
            "  Downloading python_telegram_bot-20.8-py3-none-any.whl (604 kB)\n",
            "\u001b[2K     \u001b[90m━━━━━━━━━━━━━━━━━━━━━━━━━━━━━━━━━━━━━━━━\u001b[0m \u001b[32m604.9/604.9 kB\u001b[0m \u001b[31m6.7 MB/s\u001b[0m eta \u001b[36m0:00:00\u001b[0m\n",
            "\u001b[?25hCollecting httpx~=0.26.0 (from python-telegram-bot)\n",
            "  Downloading httpx-0.26.0-py3-none-any.whl (75 kB)\n",
            "\u001b[2K     \u001b[90m━━━━━━━━━━━━━━━━━━━━━━━━━━━━━━━━━━━━━━━━\u001b[0m \u001b[32m75.9/75.9 kB\u001b[0m \u001b[31m8.5 MB/s\u001b[0m eta \u001b[36m0:00:00\u001b[0m\n",
            "\u001b[?25hRequirement already satisfied: anyio in /usr/local/lib/python3.10/dist-packages (from httpx~=0.26.0->python-telegram-bot) (3.7.1)\n",
            "Requirement already satisfied: certifi in /usr/local/lib/python3.10/dist-packages (from httpx~=0.26.0->python-telegram-bot) (2024.2.2)\n",
            "Collecting httpcore==1.* (from httpx~=0.26.0->python-telegram-bot)\n",
            "  Downloading httpcore-1.0.4-py3-none-any.whl (77 kB)\n",
            "\u001b[2K     \u001b[90m━━━━━━━━━━━━━━━━━━━━━━━━━━━━━━━━━━━━━━━━\u001b[0m \u001b[32m77.8/77.8 kB\u001b[0m \u001b[31m8.7 MB/s\u001b[0m eta \u001b[36m0:00:00\u001b[0m\n",
            "\u001b[?25hRequirement already satisfied: idna in /usr/local/lib/python3.10/dist-packages (from httpx~=0.26.0->python-telegram-bot) (3.6)\n",
            "Requirement already satisfied: sniffio in /usr/local/lib/python3.10/dist-packages (from httpx~=0.26.0->python-telegram-bot) (1.3.0)\n",
            "Collecting h11<0.15,>=0.13 (from httpcore==1.*->httpx~=0.26.0->python-telegram-bot)\n",
            "  Downloading h11-0.14.0-py3-none-any.whl (58 kB)\n",
            "\u001b[2K     \u001b[90m━━━━━━━━━━━━━━━━━━━━━━━━━━━━━━━━━━━━━━━━\u001b[0m \u001b[32m58.3/58.3 kB\u001b[0m \u001b[31m6.7 MB/s\u001b[0m eta \u001b[36m0:00:00\u001b[0m\n",
            "\u001b[?25hRequirement already satisfied: exceptiongroup in /usr/local/lib/python3.10/dist-packages (from anyio->httpx~=0.26.0->python-telegram-bot) (1.2.0)\n",
            "Installing collected packages: h11, httpcore, httpx, python-telegram-bot\n",
            "Successfully installed h11-0.14.0 httpcore-1.0.4 httpx-0.26.0 python-telegram-bot-20.8\n"
          ]
        }
      ],
      "source": [
        "!pip install python-telegram-bot"
      ]
    },
    {
      "cell_type": "code",
      "execution_count": null,
      "metadata": {
        "id": "W36RVpc6-xym"
      },
      "outputs": [],
      "source": [
        "!rm -rf botTelegram"
      ]
    },
    {
      "cell_type": "code",
      "execution_count": null,
      "metadata": {
        "colab": {
          "base_uri": "https://localhost:8080/"
        },
        "id": "BQCoW_zxV7uv",
        "outputId": "80fdf5cf-fb26-4174-da03-60f497b23962"
      },
      "outputs": [
        {
          "name": "stdout",
          "output_type": "stream",
          "text": [
            "Collecting Telegram\n",
            "  Downloading telegram-0.0.1.tar.gz (879 bytes)\n",
            "  Preparing metadata (setup.py) ... \u001b[?25l\u001b[?25hdone\n",
            "Building wheels for collected packages: Telegram\n",
            "  Building wheel for Telegram (setup.py) ... \u001b[?25l\u001b[?25hdone\n",
            "  Created wheel for Telegram: filename=telegram-0.0.1-py3-none-any.whl size=1293 sha256=73b8a97e7119698b90d311ae45742921e40a475f6fc927ddb9c7407d0bf7351e\n",
            "  Stored in directory: /root/.cache/pip/wheels/f3/f2/16/dc6d6c6c7e0422206fec62833039a2b4082de3b85e55d32b52\n",
            "Successfully built Telegram\n",
            "Installing collected packages: Telegram\n",
            "Successfully installed Telegram-0.0.1\n"
          ]
        }
      ],
      "source": [
        "!pip install Telegram"
      ]
    },
    {
      "cell_type": "code",
      "execution_count": null,
      "metadata": {
        "colab": {
          "base_uri": "https://localhost:8080/"
        },
        "id": "SgXx8cFiVxCN",
        "outputId": "898461e7-8dbd-4034-a53c-c2c0f12e7c13"
      },
      "outputs": [
        {
          "name": "stdout",
          "output_type": "stream",
          "text": [
            "Requirement already satisfied: requests in /usr/local/lib/python3.10/dist-packages (2.31.0)\n",
            "Requirement already satisfied: charset-normalizer<4,>=2 in /usr/local/lib/python3.10/dist-packages (from requests) (3.3.2)\n",
            "Requirement already satisfied: idna<4,>=2.5 in /usr/local/lib/python3.10/dist-packages (from requests) (3.6)\n",
            "Requirement already satisfied: urllib3<3,>=1.21.1 in /usr/local/lib/python3.10/dist-packages (from requests) (2.0.7)\n",
            "Requirement already satisfied: certifi>=2017.4.17 in /usr/local/lib/python3.10/dist-packages (from requests) (2024.2.2)\n"
          ]
        }
      ],
      "source": [
        "!pip install requests"
      ]
    },
    {
      "cell_type": "code",
      "execution_count": null,
      "metadata": {
        "id": "R22jRKNKqqaP"
      },
      "outputs": [],
      "source": [
        "import requests\n",
        "import json\n",
        "# Define the base URL of the Telegram API\n",
        "base_url = \"TELEGRAM TOKEN\"\n",
        "\n",
        "# Function to send messages to the chat\n",
        "def send_message(chat_id, text):\n",
        "    url = base_url + \"sendMessage\"\n",
        "    params = {\"chat_id\": chat_id, \"text\": text}\n",
        "    response = requests.post(url, params=params)\n",
        "    return response.json()\n",
        "\n",
        "# Function to process the messages received\n",
        "def process_message(message):\n",
        "    chat_id = message[\"chat\"][\"id\"]\n",
        "    text = message[\"text\"]\n",
        "\n",
        "    if text.lower() == \"hola\":\n",
        "        if text.lower() == \"hola\":\n",
        "            send_message(chat_id, \"¡Hola! ¿En qué puedo ayudarte?\")\n",
        "            send_message(chat_id, \"¡Hola! ¿En qué puedo ayudarte?\")\n"
      ]
    },
    {
      "cell_type": "code",
      "execution_count": null,
      "metadata": {
        "colab": {
          "base_uri": "https://localhost:8080/"
        },
        "id": "aa0oLEMDsJRW",
        "outputId": "4f0b9ea5-75a3-415d-bb11-87a59e2744f5"
      },
      "outputs": [
        {
          "name": "stdout",
          "output_type": "stream",
          "text": [
            "python3: can't open file '/content/your_bot_file.py': [Errno 2] No such file or directory\n"
          ]
        }
      ],
      "source": [
        "!python your_bot_file.py"
      ]
    },
    {
      "cell_type": "code",
      "execution_count": null,
      "metadata": {
        "colab": {
          "base_uri": "https://localhost:8080/"
        },
        "id": "t9AnDpii_-eX",
        "outputId": "c6384b3f-ec81-4142-8a1e-aada90e8a1e6"
      },
      "outputs": [
        {
          "name": "stdout",
          "output_type": "stream",
          "text": [
            "python3: can't open file '/content/botTelegram/Peterpedrobot.py': [Errno 2] No such file or directory\n"
          ]
        }
      ],
      "source": [
        "!python botTelegram/Peterpedrobot.py"
      ]
    },
    {
      "cell_type": "code",
      "execution_count": null,
      "metadata": {
        "id": "jFK92X7IQ50r"
      },
      "outputs": [],
      "source": [
        "TELEGRAM_TOKEN = \"6936593746:AAH4nrV6WqQKsfEyOuYcPU2rBF9zjYiA9Gw\"\n"
      ]
    },
    {
      "cell_type": "markdown",
      "metadata": {
        "id": "XkY5X68e850E"
      },
      "source": [
        "https://t.me/Peterpedrobot"
      ]
    },
    {
      "cell_type": "code",
      "execution_count": null,
      "metadata": {
        "colab": {
          "base_uri": "https://localhost:8080/"
        },
        "id": "MItp7g4_O17q",
        "outputId": "fe1b6148-c8ce-472b-ac75-8361e5dd3802"
      },
      "outputs": [
        {
          "output_type": "stream",
          "name": "stdout",
          "text": [
            "Collecting pytelegrambotapi\n",
            "  Downloading pytelegrambotapi-4.16.1-py3-none-any.whl (232 kB)\n",
            "\u001b[?25l     \u001b[90m━━━━━━━━━━━━━━━━━━━━━━━━━━━━━━━━━━━━━━━━\u001b[0m \u001b[32m0.0/232.2 kB\u001b[0m \u001b[31m?\u001b[0m eta \u001b[36m-:--:--\u001b[0m\r\u001b[2K     \u001b[91m━━━━━━━━━━━━━━━━━━━━━━━━\u001b[0m\u001b[91m╸\u001b[0m\u001b[90m━━━━━━━━━━━━━━━\u001b[0m \u001b[32m143.4/232.2 kB\u001b[0m \u001b[31m4.0 MB/s\u001b[0m eta \u001b[36m0:00:01\u001b[0m\r\u001b[2K     \u001b[90m━━━━━━━━━━━━━━━━━━━━━━━━━━━━━━━━━━━━━━━━\u001b[0m \u001b[32m232.2/232.2 kB\u001b[0m \u001b[31m4.5 MB/s\u001b[0m eta \u001b[36m0:00:00\u001b[0m\n",
            "\u001b[?25hRequirement already satisfied: requests in /usr/local/lib/python3.10/dist-packages (from pytelegrambotapi) (2.31.0)\n",
            "Requirement already satisfied: charset-normalizer<4,>=2 in /usr/local/lib/python3.10/dist-packages (from requests->pytelegrambotapi) (3.3.2)\n",
            "Requirement already satisfied: idna<4,>=2.5 in /usr/local/lib/python3.10/dist-packages (from requests->pytelegrambotapi) (3.6)\n",
            "Requirement already satisfied: urllib3<3,>=1.21.1 in /usr/local/lib/python3.10/dist-packages (from requests->pytelegrambotapi) (2.0.7)\n",
            "Requirement already satisfied: certifi>=2017.4.17 in /usr/local/lib/python3.10/dist-packages (from requests->pytelegrambotapi) (2024.2.2)\n",
            "Installing collected packages: pytelegrambotapi\n",
            "Successfully installed pytelegrambotapi-4.16.1\n"
          ]
        }
      ],
      "source": [
        "!pip install pytelegrambotapi"
      ]
    },
    {
      "cell_type": "code",
      "execution_count": null,
      "metadata": {
        "colab": {
          "base_uri": "https://localhost:8080/"
        },
        "id": "4IpIMJxrcug5",
        "outputId": "dda8fe30-e4af-49fc-b47e-4cdeb7633d03"
      },
      "outputs": [
        {
          "output_type": "stream",
          "name": "stdout",
          "text": [
            "\u001b[35m[C 14:24:45.302 NotebookApp]\u001b[m No such file or directory: /content/restart\n"
          ]
        }
      ],
      "source": [
        "!jupyter notebook restart"
      ]
    },
    {
      "cell_type": "markdown",
      "metadata": {
        "id": "HA2lOj27GfaL"
      },
      "source": [
        "notas\n",
        "\n",
        "    texto_html = '<b><u>formatos HTML</u>:</b>' + '/n'\n",
        "    texto_html+= '<b>NEGRITA</b>' + '/n' # negrita en HTML\n",
        "    texto_html+= '<i>CURSIVA</i>' + '/n' # Cursiva en HTML\n",
        "    texto_html+= '<u>SUBRAYADO</u>' + '/n' # subrayado en HTML\n",
        "    texto_html+= '<s>TACHADO</s>' + '/n' # tachado en HTML\n",
        "    texto_html+= '<code>MONOESPACIADO</code>' + '/n' # monoespaciado en HTML\n",
        "    texto_html+= '<span class=\"tg-spoiler\">SPOILER</span>' + '/n' # Spoiler en HTML\n",
        "    texto_html+= '<a href=\"https://www.youtube.com/watch?v=wL8DVHuWI7Y\">ENLACE</a>' + '/n' # Enlace en HTML\n",
        "\n",
        "\n",
        "    import time\n",
        "    x = bot.send_message(message.chat.id, \"<b>Hola amigo</b>\", texto_html, parse_mode=\"html\", disable_web_page_preview=True)\n",
        "       time.sleep(9)\n",
        "       bot.delete_message(message.chat.id, message.message_id)\n",
        "    \n",
        " **texto en negrita**"
      ]
    },
    {
      "cell_type": "code",
      "execution_count": null,
      "metadata": {
        "colab": {
          "base_uri": "https://localhost:8080/"
        },
        "id": "uVgay1CWP5FT",
        "outputId": "4b8eb134-9074-4a6e-b61e-48508f0596fd"
      },
      "outputs": [
        {
          "output_type": "stream",
          "name": "stdout",
          "text": [
            "Iniciamos el bot\n"
          ]
        },
        {
          "output_type": "stream",
          "name": "stderr",
          "text": [
            "2024-03-07 17:29:10,125 (__init__.py:1027 MainThread) ERROR - TeleBot: \"Infinity polling: polling exited\"\n",
            "ERROR:TeleBot:Infinity polling: polling exited\n",
            "2024-03-07 17:29:10,129 (__init__.py:1029 MainThread) ERROR - TeleBot: \"Break infinity polling\"\n",
            "ERROR:TeleBot:Break infinity polling\n"
          ]
        },
        {
          "output_type": "stream",
          "name": "stdout",
          "text": [
            "Fin\n"
          ]
        }
      ],
      "source": [
        "from ast import If\n",
        "import telebot\n",
        "import time\n",
        "# PARA MANEJAR LA API DE TELEGRAM\n",
        "\n",
        "# instanciamos el bot de telegram\n",
        "\n",
        "bot = telebot.TeleBot(TELEGRAM_TOKEN)\n",
        "\n",
        "# responde al comando /start\n",
        "@bot.message_handler(commands=[\"start\", \"ayuda\", \"help\"])\n",
        "def cmd_start(message):\n",
        "    \"\"\"Da la bienvenida al usuario del bot\"\"\"\n",
        "    bot.reply_to(message, \"Hola! ¿Como estás?\")\n",
        "\n",
        "# responde a los mensajes de texto que no son comandos\n",
        "\n",
        "@bot.message_handler(content_types=[\"text\"])\n",
        "def bot_mensajes_texto(message):\n",
        "    \"\"\"gestiona los mensajes de texto recibidos\"\"\"\n",
        "# formatos html\n",
        "    if message.text.startswith(\"/\"):\n",
        "       bot.send_message(message.chat.id, \"Comando no disponible\")\n",
        "    else:\n",
        "        foto = open(\"./imagenes/promo_producto1.png\", \"rb\")\n",
        "        bot.send_photo(message.chat.id, foto, \"EPICO!!!\")\n",
        "\n",
        "\n",
        "# MAIN ####################################\n",
        "if __name__ == '__main__':\n",
        "    print('Iniciamos el bot')\n",
        "    bot.infinity_polling()\n",
        "    print('Fin')\n"
      ]
    },
    {
      "cell_type": "code",
      "execution_count": null,
      "metadata": {
        "colab": {
          "base_uri": "https://localhost:8080/"
        },
        "id": "XaWhBZ81dJpO",
        "outputId": "fc7d3efa-695b-48eb-cf95-4f8f2db109de"
      },
      "outputs": [
        {
          "output_type": "stream",
          "name": "stdout",
          "text": [
            "Collecting telebot\n",
            "  Downloading telebot-0.0.5-py3-none-any.whl (4.8 kB)\n",
            "Requirement already satisfied: pyTelegramBotAPI in /usr/local/lib/python3.10/dist-packages (from telebot) (4.16.1)\n",
            "Requirement already satisfied: requests in /usr/local/lib/python3.10/dist-packages (from telebot) (2.31.0)\n",
            "Requirement already satisfied: charset-normalizer<4,>=2 in /usr/local/lib/python3.10/dist-packages (from requests->telebot) (3.3.2)\n",
            "Requirement already satisfied: idna<4,>=2.5 in /usr/local/lib/python3.10/dist-packages (from requests->telebot) (3.6)\n",
            "Requirement already satisfied: urllib3<3,>=1.21.1 in /usr/local/lib/python3.10/dist-packages (from requests->telebot) (2.0.7)\n",
            "Requirement already satisfied: certifi>=2017.4.17 in /usr/local/lib/python3.10/dist-packages (from requests->telebot) (2024.2.2)\n",
            "Installing collected packages: telebot\n",
            "Successfully installed telebot-0.0.5\n"
          ]
        }
      ],
      "source": [
        "!pip install telebot"
      ]
    }
  ],
  "metadata": {
    "colab": {
      "provenance": [],
      "authorship_tag": "ABX9TyMqZ86NMAq5AK4Qp/HEQ+zx",
      "include_colab_link": true
    },
    "kernelspec": {
      "display_name": "Python 3",
      "name": "python3"
    },
    "language_info": {
      "name": "python"
    }
  },
  "nbformat": 4,
  "nbformat_minor": 0
}